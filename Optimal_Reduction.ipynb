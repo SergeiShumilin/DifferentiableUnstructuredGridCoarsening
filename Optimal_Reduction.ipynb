{
  "cells": [
    {
      "cell_type": "markdown",
      "metadata": {
        "id": "q505xPmOzYFu"
      },
      "source": [
        "![image.png](data:image/png;base64,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)"
      ]
    },
    {
      "cell_type": "code",
      "source": [
        "%%capture\n",
        "!pip install torch-geometric==2.5.0\n",
        "!pip install trimesh\n",
        "!pip install differentiable-voronoi\n",
        "!pip install gradnorm-pytorch"
      ],
      "metadata": {
        "id": "1nWaYvwQPIxi"
      },
      "execution_count": null,
      "outputs": []
    },
    {
      "cell_type": "code",
      "execution_count": null,
      "metadata": {
        "id": "CeGcxdlcUFu_"
      },
      "outputs": [],
      "source": [
        "from differentiable_voronoi import differentiable_voronoi, triangulate\n",
        "from shapely import Polygon, LineString, Point\n",
        "import matplotlib.pyplot as plt\n",
        "import torch\n",
        "from torch_geometric.nn import MessagePassing\n",
        "from torch_geometric.utils import to_dense_adj, to_undirected\n",
        "from copy import deepcopy\n",
        "import numpy as np\n",
        "from sklearn.cluster import KMeans, SpectralClustering, BisectingKMeans\n",
        "from trimesh import Trimesh\n",
        "from scipy.spatial import Delaunay\n",
        "import matplotlib.patches\n",
        "from shapely.geometry.polygon import orient\n",
        "from scipy.spatial import Voronoi, voronoi_plot_2d\n",
        "from torch_geometric.nn.pool import avg_pool_x\n",
        "import copy\n",
        "from torch.nn import MSELoss\n",
        "from IPython.display import clear_output\n",
        "from tqdm import tqdm\n",
        "from sklearn.metrics import mean_squared_error\n",
        "from sklearn.neighbors import KDTree"
      ]
    },
    {
      "cell_type": "markdown",
      "metadata": {
        "id": "CmCgvpp9V6Mo"
      },
      "source": [
        "### Circle"
      ]
    },
    {
      "cell_type": "code",
      "execution_count": null,
      "metadata": {
        "id": "IgCIlkDHPYk7"
      },
      "outputs": [],
      "source": [
        "import math\n",
        "\n",
        "a = 0.5\n",
        "b = 0.5\n",
        "r = 0.5\n",
        "\n",
        "#The lower this value the higher quality the circle is with more points generated\n",
        "stepSize = 0.1\n",
        "\n",
        "#Generated vertices\n",
        "positions = []\n",
        "\n",
        "t = 0\n",
        "while t < 2 * math.pi:\n",
        "    positions.append((r * math.cos(t) + a, r * math.sin(t) + b))\n",
        "    t += stepSize\n",
        "\n",
        "circle = torch.tensor(np.array(positions[::-1]))"
      ]
    },
    {
      "cell_type": "code",
      "execution_count": null,
      "metadata": {
        "id": "ytMT4ExdL-i7"
      },
      "outputs": [],
      "source": [
        "x_values = np.array([0, 0.05, 0.15, 0.3, 0.45, 0.55, 0.7, 0.8, 0.9, 1])\n",
        "y_values = np.array([0, 0.1, 0.2, 0.35, 0.5, 0.65, 0.75, 0.85, 0.95, 1])\n",
        "pos_x, pos_y = np.meshgrid(x_values, y_values)\n",
        "coords = torch.rand(1000, 2)"
      ]
    },
    {
      "cell_type": "code",
      "execution_count": null,
      "metadata": {
        "id": "5TrujykPielo"
      },
      "outputs": [],
      "source": [
        "circle_shapely = Polygon(circle)\n",
        "whether_inside_the_polygon = []\n",
        "for point in coords:\n",
        "    is_inside = circle_shapely.contains(Point(point))\n",
        "    whether_inside_the_polygon.append(is_inside)\n",
        "whether_inside_the_polygon = torch.tensor(whether_inside_the_polygon)\n",
        "coords = coords[whether_inside_the_polygon]"
      ]
    },
    {
      "cell_type": "code",
      "execution_count": null,
      "metadata": {
        "id": "puXztANvk5Z1"
      },
      "outputs": [],
      "source": [
        "mesh = triangulate(coords)\n",
        "mask = torch.full((coords.shape[0], ), False)\n",
        "mask[mesh.boundary_nodes] = True"
      ]
    },
    {
      "cell_type": "code",
      "execution_count": null,
      "metadata": {
        "id": "k1_UUt6pQZLl"
      },
      "outputs": [],
      "source": [
        "COORDS = torch.tensor(coords, requires_grad=True)"
      ]
    },
    {
      "cell_type": "code",
      "execution_count": null,
      "metadata": {
        "id": "vuZVSMgsHODU"
      },
      "outputs": [],
      "source": [
        "_, areas_dict, h, _ = differentiable_voronoi(COORDS, mesh, boundary=circle)"
      ]
    },
    {
      "cell_type": "code",
      "execution_count": null,
      "metadata": {
        "id": "SJt35e_Etkkj"
      },
      "outputs": [],
      "source": [
        "%%time\n",
        "boundary_polygon = torch.tensor([[0.,0.],[0.,1.],[1.,1.],[1.,0.]])\n",
        "_, areas, h, _ = differentiable_voronoi(COORDS, mesh, circle)"
      ]
    },
    {
      "cell_type": "code",
      "execution_count": null,
      "metadata": {
        "id": "pC23_H3QJab1"
      },
      "outputs": [],
      "source": [
        "boundary_polygon = torch.tensor([[0.,0.],[0.,1.],[1.,1.],[1.,0.]])\n",
        "COORDS = torch.tensor(coords, requires_grad=True)\n",
        "REFERENCE_COORDS = COORDS.clone()\n",
        "with torch.no_grad():\n",
        "    mesh = triangulate(COORDS)\n",
        "optimizer = torch.optim.Adam([COORDS], lr=0.001)\n",
        "loss_curve = []\n",
        "\n",
        "for i in range(1, 1000):\n",
        "    optimizer.zero_grad()\n",
        "    _, areas, h, _ = differentiable_voronoi(COORDS, mesh, circle)\n",
        "    loss = torch.mean((areas - torch.mean(areas))**2)\n",
        "    loss_curve.append(loss.item())\n",
        "    print(i, loss, areas.min(), areas.max())\n",
        "    loss.backward()\n",
        "    optimizer.step()\n",
        "    with torch.no_grad():\n",
        "        mesh = triangulate(COORDS.clone().detach())"
      ]
    },
    {
      "cell_type": "code",
      "execution_count": null,
      "metadata": {
        "id": "FW7gVUXtU3TO"
      },
      "outputs": [],
      "source": [
        "plt.plot(loss_curve)\n",
        "plt.yscale('log')"
      ]
    },
    {
      "cell_type": "code",
      "execution_count": null,
      "metadata": {
        "id": "-pFfWeIBkkM-"
      },
      "outputs": [],
      "source": [
        "!zip -r /content/ani.zip /content/ani"
      ]
    },
    {
      "cell_type": "markdown",
      "metadata": {
        "id": "IaJrVxFWWAD9"
      },
      "source": [
        "### Физика"
      ]
    },
    {
      "cell_type": "markdown",
      "metadata": {
        "id": "mGuHDPbXz7dY"
      },
      "source": [
        " **+  Diff Solver**"
      ]
    },
    {
      "cell_type": "code",
      "execution_count": null,
      "metadata": {
        "id": "vOut6LZgzXqr"
      },
      "outputs": [],
      "source": [
        "image = '██░░░░░░░░░░░░░░░░░░░░░░███░░░░░░░░░░░░░░░░░░░░░░███░░░░░░░▄▄▄▄▄░░░░░░░░░░███░░░░█████████▄░░░░░░░░███▄░▐██▀░░░▀███░░░░░░░░░▀█████░░░░░░░██░░░░░░░░░░░█████▄▄▄▄▄███░░░░░░░░░░░░░█████████▀░░░░░░░░░░░░░░░███░░░░░░░░░░░░░░░░░░░░░░█████▄▄▄░░░░░░░░░░░░░░░░░░▀▀███████▄░░░░░░░░░░░░░░░░░░░▀▀████░░░░░░░░░░░░░░░░░░░░░░███'\n",
        "def image_to_graph(image, image_height=13):\n",
        "    image_width = int(len(image)/ image_height)\n",
        "    xs = np.linspace(0, 1, image_width)\n",
        "    ys = np.linspace(0, 1, image_height)\n",
        "    xs, ys = np.meshgrid(xs, ys)\n",
        "    xs, ys = xs.flatten(), ys.flatten()\n",
        "    ks = []\n",
        "    for i in image:\n",
        "        if i == '░': ks.append(0.01)\n",
        "        else: ks.append(1)\n",
        "    return np.array([xs, ys, ks]).T\n",
        "\n",
        "def reduce_graph(graph, k, keep=None, method=KMeans):\n",
        "    if method=='random':\n",
        "        loop_reduced = np.random.rand(k, 2)\n",
        "        kdtree = KDTree(graph[:, :2])\n",
        "        nn = kdtree.query(loop_reduced, k=1)[1]\n",
        "        perm = graph[:, 2][nn]\n",
        "        loop_reduced = np.concatenate([loop_reduced, perm], axis=1)\n",
        "    elif method=='subsampling_2':\n",
        "        loop_reduced = graph[: : 2]\n",
        "    elif method=='subsampling_10':\n",
        "        loop_reduced = graph[: : 10]\n",
        "    elif method=='subsampling_50':\n",
        "        loop_reduced = graph[: : 50]\n",
        "    else:\n",
        "        labels = method(k, random_state=16).fit_predict(graph)\n",
        "        new_labels = None\n",
        "        loop_reduced = avg_pool_x(torch.tensor(labels), torch.tensor(graph), torch.ones(len(labels)))[0]\n",
        "\n",
        "    if not torch.is_tensor(loop_reduced):\n",
        "        loop_reduced = torch.tensor(loop_reduced)\n",
        "\n",
        "    if keep is not None:\n",
        "        loop_reduced = torch.cat([loop_reduced, torch.tensor(graph[keep])], dim=0)\n",
        "        loop_reduced, return_inverse, count = torch.unique(loop_reduced, return_inverse=True, return_counts=True,  dim=0)\n",
        "    for i, p in enumerate(loop_reduced):\n",
        "        for j, n in enumerate(loop_reduced):\n",
        "            if i != j and torch.norm(p - n) < 1e-4:\n",
        "                print(p, n)\n",
        "                raise ValueError\n",
        "\n",
        "    return loop_reduced.detach().numpy(), [return_inverse[-2].item(), return_inverse[-1].item()]\n",
        "\n",
        "def plot_diagram(points, ax, title=''):\n",
        "    vor = Voronoi(points[:, :2])\n",
        "    voronoi_plot_2d(vor, ax=ax, show_vertices=False)\n",
        "    ax.set_title(title)\n",
        "    bar1 = ax.scatter(points[:, 0], points[:, 1], c=points[:, 2], vmax=1, vmin=0, s=100)\n",
        "    for i, txt in enumerate(points):\n",
        "        ax.annotate(i, (points[i][0].item(), points[i][1].item()), fontsize=10, c='red')\n",
        "    plt.colorbar(bar1, ax=ax)\n",
        "\n",
        "eps = 1e-1\n",
        "unit_boundary = torch.tensor([[-eps,-eps],[-eps, 1. + eps],[1. + eps, 1. + eps],[1. + eps, -eps]], requires_grad=False)\n",
        "source_sink_loop = [0, 180]\n",
        "loop = image_to_graph(image)"
      ]
    },
    {
      "cell_type": "code",
      "execution_count": null,
      "metadata": {
        "id": "4w6NHGBQ23Bn"
      },
      "outputs": [],
      "source": [
        "fig, ax = plt.subplots(figsize=(10, 8))\n",
        "plot_diagram(loop, ax)"
      ]
    },
    {
      "cell_type": "code",
      "execution_count": null,
      "metadata": {
        "id": "F1W8FXsc3FnC"
      },
      "outputs": [],
      "source": [
        "class Solver(MessagePassing):\n",
        "    \"\"\"Graph solver class\"\"\"\n",
        "    def __init__(self):\n",
        "        super().__init__(aggr='add', flow='target_to_source')\n",
        "\n",
        "    def calc_weights(self, k, e, h, edge_index):\n",
        "        k_i, k_j = k[edge_index[0]], k[edge_index[1]]\n",
        "        numerator = 2 * k_i * k_j * e\n",
        "        denominator = (k_i + k_j) * h + 1e-8\n",
        "        assert numerator.shape == denominator.shape\n",
        "        return torch.divide(numerator, denominator)\n",
        "\n",
        "    def forward(self, u, v, h, e, k, w, p_bhp, dt, edge_index):\n",
        "        assert ~torch.any(torch.isnan(u))\n",
        "        assert ~torch.any(torch.isnan(v))\n",
        "        assert ~torch.any(torch.isnan(h))\n",
        "        assert ~torch.any(torch.isnan(e))\n",
        "        assert ~torch.any(torch.isnan(k))\n",
        "        assert len(u) == len(v), print(len(u), len(v))\n",
        "        assert len(h) == len(e) == edge_index.shape[1]\n",
        "        assert len(u) == len(p_bhp) == len(w) == len(k)\n",
        "        assert torch.all(u >= 0)\n",
        "        assert torch.all(v > 0)\n",
        "        assert torch.all(h > 0)\n",
        "        assert torch.all(e >= 0)\n",
        "        assert torch.all(k > 0)\n",
        "        assert torch.all(w >= 0)\n",
        "        assert torch.all(p_bhp >= 0)\n",
        "\n",
        "\n",
        "        weights = self.calc_weights(k, e, h, edge_index).view(-1, 1)\n",
        "        assert ~torch.any(torch.isnan(weights))\n",
        "        assert len(weights) == edge_index.shape[1], print(len(weights), len(edge_index))\n",
        "        edge_index, weights = to_undirected(edge_index, weights)\n",
        "        assert torch.all(weights >= 0)\n",
        "\n",
        "        div = self.propagate(edge_index=edge_index, x=u, weights=weights)\n",
        "        assert len(div) == len(u)\n",
        "        t_over_V = dt / v\n",
        "        numerator = u + t_over_V * (w * p_bhp - div)\n",
        "        denominator = 1 + t_over_V * w\n",
        "        return numerator / denominator\n",
        "\n",
        "    def message(self, x_i, x_j, weights):\n",
        "        du = x_i - x_j\n",
        "        return weights * du\n",
        "\n",
        "def calc_h(coords, edge_index):\n",
        "    x_i, x_j = coords[edge_index[0]], coords[edge_index[1]]\n",
        "    return torch.norm(x_i - x_j, dim=1)"
      ]
    },
    {
      "cell_type": "code",
      "execution_count": null,
      "metadata": {
        "id": "pJaHyF0FNOhZ"
      },
      "outputs": [],
      "source": [
        "def roll_out(solver, n_steps, u0, v, h, e, k, w, p_bhp, dt, edge_index, keep=0, save_animation=False, every_nth=10000):\n",
        "    roll = torch.zeros(n_steps)\n",
        "    animation=[]\n",
        "    u = u0\n",
        "    for i in range(n_steps):\n",
        "        u = Solver()(u=u, v=v.view(-1, 1), h=h, e=e, k=k, w=w, p_bhp=p_bhp, dt=dt, edge_index=edge_index)\n",
        "        roll[i] = u[keep]\n",
        "        if save_animation and i%every_nth==0: animation.append(u)\n",
        "    return roll, animation\n",
        "\n",
        "def dynamics(point_cloud, ids, boundary, dt=0.0001, n_steps=10000, save_animation=False):\n",
        "    COORDS = torch.tensor(point_cloud[:, :2], dtype=torch.float32, requires_grad=False)\n",
        "    mesh = triangulate(COORDS.clone().detach())\n",
        "\n",
        "    edge_index, areas, e, _ = differentiable_voronoi(COORDS, mesh, boundary)\n",
        "    assert len(COORDS) == len(areas), print(len(COORDS), len(areas), areas)\n",
        "    h = calc_h(COORDS, edge_index)\n",
        "\n",
        "    u0 = torch.zeros((len(COORDS), 1), requires_grad=False)\n",
        "    perm = torch.tensor(point_cloud[:, 2], requires_grad=False)\n",
        "\n",
        "    source = ids[0]\n",
        "    sink = ids[1]\n",
        "\n",
        "    w = torch.zeros((len(COORDS), 1), requires_grad=False)\n",
        "    w[source] = 1.0\n",
        "    p_bhp = torch.zeros((len(COORDS), 1), requires_grad=False)\n",
        "    p_bhp[source] = 10.\n",
        "\n",
        "    return roll_out(Solver(), n_steps=n_steps, u0=u0, v=areas, h=h, e=e, k=perm, w=w, p_bhp=p_bhp, dt=dt,\n",
        "                                 edge_index=edge_index, keep=sink, save_animation=save_animation)"
      ]
    },
    {
      "cell_type": "code",
      "execution_count": null,
      "outputs": [],
      "source": [
        "loop_20, source_and_sink_20 = reduce_graph(loop, 20, keep=[0, 180])\n",
        "loop_30, source_and_sink_30 = reduce_graph(loop, 30, keep=[0, 180])\n",
        "loop_50, source_and_sink_50 = reduce_graph(loop, 50, keep=[0, 180])\n",
        "loop_60, source_and_sink_60 = reduce_graph(loop, 60, keep=[0, 180])"
      ],
      "metadata": {
        "id": "qHOSZhsfOei6"
      }
    },
    {
      "cell_type": "code",
      "execution_count": null,
      "metadata": {
        "id": "kwF7jQZSpcl_"
      },
      "outputs": [],
      "source": [
        "loop_40, source_and_sink_40 = reduce_graph(loop, 40, keep=[0, 180])\n",
        "loop_20, source_and_sink_20 = reduce_graph(loop, 40, keep=[0, 180])\n",
        "loop_5, source_and_sink_5 = reduce_graph(loop, 10, keep=[0, 180])"
      ]
    },
    {
      "cell_type": "code",
      "execution_count": null,
      "metadata": {
        "id": "sgRHJACWqE2E",
        "ExecuteTime": {
          "end_time": "2024-02-02T08:25:14.335870Z",
          "start_time": "2024-02-02T08:25:08.973289Z"
        }
      },
      "outputs": [],
      "source": [
        "ground_truth_dynamics, _ = dynamics(loop, [0, 180], unit_boundary, n_steps=10000)\n",
        "reduced_dynamics_200, _ = dynamics(loop_20, source_and_sink_20, unit_boundary)\n",
        "reduced_dynamics_40, _ = dynamics(loop_40, source_and_sink_40, unit_boundary)\n",
        "reduced_dynamics_5, _ = dynamics(loop_5, source_and_sink_5, unit_boundary)"
      ]
    },
    {
      "cell_type": "code",
      "execution_count": null,
      "metadata": {
        "id": "sY3csEmAqU48",
        "ExecuteTime": {
          "end_time": "2024-02-02T08:34:29.379193Z",
          "start_time": "2024-02-02T08:34:29.370254Z"
        }
      },
      "outputs": [],
      "source": [
        "def ICML(loop, source_sink, boundary, unit='permeability', title=''):\n",
        "    if not torch.is_tensor(loop):\n",
        "        loop = torch.tensor(loop, dtype=torch.float16)\n",
        "    fig, ax = plt.subplots(figsize=(14, 10))\n",
        "    coords = loop[:, :2]\n",
        "    perm = loop[:, 2]\n",
        "    mesh = triangulate(coords)\n",
        "    edge_index, areas, e, clipped_vertices_dict = differentiable_voronoi(coords, mesh, boundary)\n",
        "    ICML_print_grid(ax, coords, perm, source_sink[0], source_sink[1], clipped_vertices_dict, unit)\n",
        "    ax.set_xlim(-0.1, 1.1)\n",
        "    ax.set_ylim(-0.1, 1.1)\n",
        "    plt.xticks(fontsize = 20)\n",
        "    plt.yticks(fontsize = 20)\n",
        "    ax.set_title(title, fontsize = 30)\n",
        "    plt.savefig('./pressure_' + title + '.png')\n",
        "\n",
        "def ICML_print_grid(ax, COORDS, perm, source, sink, clipped_vertices_dict, unit='permeability'):\n",
        "    for vertex in clipped_vertices_dict.keys():\n",
        "        line = clipped_vertices_dict[vertex].clone().detach()\n",
        "        cmap = plt.get_cmap('RdYlBu')\n",
        "        p = matplotlib.patches.Polygon(line, facecolor = 'g', edgecolor='black', alpha=0.2, fill=False)\n",
        "        m = torch.mean(torch.unique(line, dim=0), dim=0)\n",
        "        ax.add_patch(p)\n",
        "    scale = ax.scatter(COORDS.detach()[:, 0], COORDS.detach()[:, 1], c=perm.detach(), s=400)\n",
        "    ax.scatter(COORDS.detach()[source, 0].item(), COORDS.detach()[source, 1].item(), s=100, c='r', marker='v')\n",
        "    ax.text(COORDS.detach()[source, 0].item(), COORDS.detach()[source, 1].item(), 'source', fontsize=30)\n",
        "    ax.scatter(COORDS.detach()[sink, 0].item(), COORDS.detach()[sink, 1].item(), s=100, c='g', marker='^')\n",
        "    ax.text(COORDS.detach()[sink, 0].item(), COORDS.detach()[sink, 1].item(), 'sink', fontsize=30)\n",
        "    cbar = plt.colorbar(scale)\n",
        "    cbar.ax.tick_params(labelsize=24)\n",
        "    cbar.ax.set_ylabel(unit, fontsize=40)\n",
        "\n",
        "def ICML_print(COORDS, clipped_vertices_dict, perm, source, sink, ground_truth_dynamics, reduced_dynamics, loss_curve, title=''):\n",
        "    fig, ax1 = plt.subplots(figsize=(14, 10))\n",
        "\n",
        "    ICML_print_grid(ax1, COORDS, perm, source, sink, clipped_vertices_dict)\n",
        "    ax1.set_title(title, fontsize=24)\n",
        "    plt.show()\n",
        "\n",
        "def train(point_cloud, boundary, source_and_sink, ground_truth_dynamics, clamp_min = 0, clamp_max = 1., dt=0.001, n_steps=10000, n_epochs=100):\n",
        "    assert len(ground_truth_dynamics) == n_steps\n",
        "    COORDS = torch.tensor(point_cloud[:, :2], requires_grad=True)\n",
        "    optimizer = torch.optim.Adam([COORDS], lr=0.009)\n",
        "    loss_fn = MSELoss()\n",
        "    loss_curve = []\n",
        "    mesh = triangulate(COORDS.clone().detach())\n",
        "\n",
        "    u0 = torch.zeros((len(COORDS), 1), requires_grad=False)\n",
        "    perm = torch.tensor(point_cloud[:, 2], requires_grad=False)\n",
        "\n",
        "    source = source_and_sink[0]\n",
        "    sink = source_and_sink[1]\n",
        "\n",
        "    w = torch.zeros((len(COORDS), 1), requires_grad=False)\n",
        "    w[source] = 1.0\n",
        "    p_bhp = torch.zeros((len(COORDS), 1), requires_grad=False)\n",
        "    p_bhp[source] = 10.0\n",
        "\n",
        "    solver = Solver()\n",
        "\n",
        "    for i in tqdm(range(1, n_epochs)):\n",
        "        optimizer.zero_grad()\n",
        "\n",
        "        edge_index, areas, e, clipped_vertices_dict = differentiable_voronoi(COORDS, mesh, boundary)\n",
        "        h = calc_h(COORDS, edge_index)\n",
        "        reduced_dynamics, _ = roll_out(solver, n_steps=n_steps, u0=u0, v=areas, h=h, e=e, k=perm, w=w, p_bhp=p_bhp, dt=dt,\n",
        "                                    edge_index=edge_index, keep=sink)\n",
        "\n",
        "        loss = torch.sqrt(loss_fn(ground_truth_dynamics, reduced_dynamics))\n",
        "        loss_curve.append(loss.item())\n",
        "        print(i, loss.item())\n",
        "        loss.backward()\n",
        "        optimizer.step()\n",
        "\n",
        "        with torch.no_grad():\n",
        "            COORDS[:] = COORDS.clamp(clamp_min, clamp_max)\n",
        "            mesh = triangulate(COORDS.clone().detach())\n",
        "\n",
        "    return reduced_dynamics.detach()"
      ]
    },
    {
      "cell_type": "code",
      "execution_count": null,
      "outputs": [],
      "source": [
        "result_ours = {}\n",
        "result_ours[1] = ground_truth_dynamics\n",
        "ts40 = train(loop_40, unit_boundary, source_and_sink_40, ground_truth_dynamics, n_epochs=20, n_steps=10000)\n",
        "result_ours[40/312] = ts40"
      ],
      "metadata": {
        "ExecuteTime": {
          "end_time": "2024-02-02T08:28:49.391981Z",
          "start_time": "2024-02-02T08:27:29.525281Z"
        },
        "id": "2Q6BGE4pOei6"
      }
    },
    {
      "cell_type": "code",
      "execution_count": null,
      "outputs": [],
      "source": [
        "ts20 = train(loop_20, unit_boundary, source_and_sink_20, ground_truth_dynamics, n_epochs=20, n_steps=10000)\n",
        "result_ours[20/312] = ts20"
      ],
      "metadata": {
        "ExecuteTime": {
          "end_time": "2024-02-02T08:30:09.720719Z",
          "start_time": "2024-02-02T08:28:54.999898Z"
        },
        "id": "CLfD-cUkOei6"
      }
    },
    {
      "cell_type": "code",
      "execution_count": null,
      "outputs": [],
      "source": [
        "ts60 = train(loop_60, unit_boundary, source_and_sink_60, ground_truth_dynamics, n_epochs=20, n_steps=10000)\n",
        "result_ours[60/312] = ts60"
      ],
      "metadata": {
        "ExecuteTime": {
          "end_time": "2024-02-02T08:35:58.802881Z",
          "start_time": "2024-02-02T08:34:38.094825Z"
        },
        "id": "D0mwjzoSOei7"
      }
    },
    {
      "cell_type": "code",
      "execution_count": null,
      "metadata": {
        "id": "1pKRXHgWsHPJ"
      },
      "outputs": [],
      "source": [
        "def try_different_degrees_of_reduction(orig_field, boundary, source_and_sink_orig, dt, n_steps, reduction_degrees=[0.75, 0.5, 0.25], n_epochs=100, apply_our_method=True, aggregating_function=KMeans):\n",
        "    ground_truth_dynamics, _ = dynamics(orig_field, source_and_sink_orig, boundary, n_steps=n_steps)\n",
        "    print(len(ground_truth_dynamics))\n",
        "    N = len(orig_field)\n",
        "\n",
        "    storage = {}\n",
        "    storage[1] = ground_truth_dynamics\n",
        "\n",
        "    for r in reduction_degrees:\n",
        "        n = int(r * N)\n",
        "        assert n > 0\n",
        "        reduced_point_cloud, source_and_sink_reduced = reduce_graph(orig_field, n, keep=source_and_sink_orig, method=aggregating_function)\n",
        "\n",
        "        if apply_our_method:\n",
        "            reduced_dynamics = train(reduced_point_cloud, boundary,\n",
        "                                    source_and_sink_reduced, ground_truth_dynamics,\n",
        "                                    clamp_min=0, clamp_max=1., dt=dt, n_steps=n_steps,\n",
        "                                    n_epochs=n_epochs)\n",
        "        else:\n",
        "            reduced_dynamics, _ = dynamics(reduced_point_cloud, source_and_sink_reduced, boundary, n_steps=n_steps)\n",
        "\n",
        "        storage[r] = reduced_dynamics\n",
        "\n",
        "    return storage"
      ]
    },
    {
      "cell_type": "code",
      "execution_count": null,
      "outputs": [],
      "source": [
        "%%time\n",
        "reduction_degrees=[20/312, 40/312, 60/312]\n",
        "result_kmeans = try_different_degrees_of_reduction(loop, unit_boundary, source_and_sink_orig=source_sink_loop, dt=0.0001,\n",
        "                                                   n_steps=10000, apply_our_method=False, reduction_degrees=reduction_degrees)"
      ],
      "metadata": {
        "ExecuteTime": {
          "end_time": "2024-02-02T08:37:13.047464Z",
          "start_time": "2024-02-02T08:37:01.388107Z"
        },
        "id": "9R9AxFZ6Oei7"
      }
    },
    {
      "cell_type": "code",
      "execution_count": null,
      "metadata": {
        "id": "-W6IM8QqyVeg",
        "ExecuteTime": {
          "end_time": "2024-02-02T08:37:22.528671Z",
          "start_time": "2024-02-02T08:37:21.242893Z"
        }
      },
      "outputs": [],
      "source": [
        "def ICML_compare_curves(result):\n",
        "    fig, ax = plt.subplots(figsize=(14, 10))\n",
        "    for k, v in result.items():\n",
        "        ax.plot(v, label='r=' + str(round(k, 3)), linewidth=4)\n",
        "    plt.legend(fontsize=20)\n",
        "    ax.set_ylabel('$p_{sink},~Pa$', fontsize=20)\n",
        "    ax.set_xlabel('time steps', fontsize=20)\n",
        "    plt.xticks(fontsize = 20)\n",
        "    plt.yticks(fontsize = 20)\n",
        "    plt.grid(True)\n",
        "    plt.show()\n",
        "\n",
        "ICML_compare_curves(result_ours)\n",
        "ICML_compare_curves(result_kmeans)"
      ]
    },
    {
      "cell_type": "code",
      "source": [
        "def ICML_compare_rmse(stores, labels):\n",
        "    fig, ax = plt.subplots(figsize=(14, 10))\n",
        "    markers = iter([\"o\" , \"s\" , \"D\"])\n",
        "    for i, res in enumerate(stores):\n",
        "        errors = {}\n",
        "        gt = res[1]\n",
        "        for k, v in res.items():\n",
        "            if k==1: continue\n",
        "            error = mean_squared_error(gt, v, squared=False)\n",
        "            errors[k] = error\n",
        "        errors = dict(sorted(errors.items()))\n",
        "        ax.plot(list(errors.keys()), list(errors.values()), label=labels[i], linewidth=4, marker=next(markers), markersize=20)\n",
        "    plt.legend(fontsize=20, loc='upper right')\n",
        "    ax.set_ylabel('RMSE', fontsize=20)\n",
        "    ax.set_xlabel('r', fontsize=20)\n",
        "    plt.xticks(fontsize = 20)\n",
        "    plt.yticks(fontsize = 20)\n",
        "    plt.grid(True)\n",
        "    plt.show()\n",
        "\n",
        "ICML_compare_rmse([result_ours, result_kmeans], ['Ours (K-Means + AVG + optimization)', 'K-Means + AVG'])"
      ],
      "metadata": {
        "id": "Qdx0j0Gp_sVV",
        "ExecuteTime": {
          "end_time": "2024-02-02T09:04:36.228345Z",
          "start_time": "2024-02-02T09:04:36.074864Z"
        }
      },
      "execution_count": null,
      "outputs": []
    },
    {
      "cell_type": "code",
      "source": [
        "ICML(loop, source_sink_loop, unit_boundary, title='Original grid (N = 312)')\n",
        "ICML(loop_40, source_and_sink_40, unit_boundary, title='Coarsed grid (n = 40)')"
      ],
      "metadata": {
        "id": "kea7I0ZnoRhe"
      },
      "execution_count": null,
      "outputs": []
    },
    {
      "cell_type": "code",
      "source": [],
      "metadata": {
        "id": "C3LGCstZRHUt"
      },
      "execution_count": null,
      "outputs": []
    },
    {
      "cell_type": "code",
      "source": [],
      "metadata": {
        "id": "f-t5bF_3RH0k"
      },
      "execution_count": null,
      "outputs": []
    },
    {
      "cell_type": "code",
      "execution_count": null,
      "outputs": [],
      "source": [],
      "metadata": {
        "id": "Qi2LamsSOei8"
      }
    },
    {
      "cell_type": "code",
      "source": [],
      "metadata": {
        "id": "kjmiiAesYqQg"
      },
      "execution_count": null,
      "outputs": []
    }
  ],
  "metadata": {
    "colab": {
      "provenance": []
    },
    "kernelspec": {
      "name": "python3",
      "language": "python",
      "display_name": "Python 3 (ipykernel)"
    },
    "language_info": {
      "codemirror_mode": {
        "name": "ipython",
        "version": 3
      },
      "file_extension": ".py",
      "mimetype": "text/x-python",
      "name": "python",
      "nbconvert_exporter": "python",
      "pygments_lexer": "ipython3",
      "version": "3.9.7"
    }
  },
  "nbformat": 4,
  "nbformat_minor": 0
}